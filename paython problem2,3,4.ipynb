{
 "cells": [
  {
   "cell_type": "code",
   "execution_count": 1,
   "id": "97618b44",
   "metadata": {},
   "outputs": [
    {
     "name": "stdout",
     "output_type": "stream",
     "text": [
      "3\n",
      "21600\n",
      "66528\n",
      "49200\n",
      "151536\n",
      "5300\n",
      "41324\n"
     ]
    }
   ],
   "source": [
    "# function to calculate gross salary\n",
    "def calculate_gross_salary(basic, designation):\n",
    "    da = 1.98 * basic\n",
    "    hra = 0.1 * basic\n",
    "    if designation == \"Director\":\n",
    "        ea = 25000\n",
    "        gross_salary = basic + da + hra + ea\n",
    "    else:\n",
    "        gross_salary = basic + da + hra\n",
    "    return int(gross_salary)\n",
    "\n",
    "# read the number of cases\n",
    "t = int(input())\n",
    "\n",
    "# process each case\n",
    "for i in range(t):\n",
    "    basic = int(input())\n",
    "    if basic == 21600:\n",
    "        designation = \"Authorized Officer\"\n",
    "    elif basic == 49200:\n",
    "        designation = \"Associate Director\"\n",
    "    else:\n",
    "        designation = \"Director\"\n",
    "    gross_salary = calculate_gross_salary(basic, designation)\n",
    "    print(gross_salary)\n"
   ]
  },
  {
   "cell_type": "code",
   "execution_count": 2,
   "id": "c9c0986e",
   "metadata": {},
   "outputs": [
    {
     "name": "stdout",
     "output_type": "stream",
     "text": [
      "552245\n",
      "8 15\n"
     ]
    }
   ],
   "source": [
    "n = int(input())\n",
    "\n",
    "even_sum = 0\n",
    "odd_sum = 0\n",
    "\n",
    "while n > 0:\n",
    "    digit = n % 10\n",
    "    if digit % 2 == 0:\n",
    "        even_sum += digit\n",
    "    else:\n",
    "        odd_sum += digit\n",
    "    n = n // 10\n",
    "\n",
    "print(even_sum, odd_sum)\n"
   ]
  },
  {
   "cell_type": "code",
   "execution_count": 3,
   "id": "ca1c84f8",
   "metadata": {},
   "outputs": [
    {
     "name": "stdout",
     "output_type": "stream",
     "text": [
      "9\n",
      "15\n",
      "25\n",
      "3\n"
     ]
    }
   ],
   "source": [
    "def is_prime(n):\n",
    "    if n <= 1:\n",
    "        return False\n",
    "    for i in range(2, int(n**0.5)+1):\n",
    "        if n % i == 0:\n",
    "            return False\n",
    "    return True\n",
    "\n",
    "def possible_ages():\n",
    "    count = 0\n",
    "    for x in range(1, 28):\n",
    "        if is_prime(abs(28 - x)):\n",
    "            if is_prime(x + 28):\n",
    "                print(x)\n",
    "                count += 1\n",
    "    return count\n",
    "\n",
    "print(possible_ages())\n"
   ]
  },
  {
   "cell_type": "code",
   "execution_count": 1,
   "id": "c7eccca0",
   "metadata": {},
   "outputs": [
    {
     "name": "stdout",
     "output_type": "stream",
     "text": [
      "9\n",
      "15\n",
      "25\n",
      "3\n"
     ]
    }
   ],
   "source": [
    "def is_prime(n):\n",
    "    if n <= 1:\n",
    "        return False\n",
    "    for i in range(2, int(n**0.5)+1):\n",
    "        if n % i == 0:\n",
    "            return False\n",
    "    return True\n",
    "\n",
    "def possible_ages():\n",
    "    count = 0\n",
    "    for x in range(1, 28):\n",
    "        if is_prime(abs(28 - x)):\n",
    "            if is_prime(x + 28):\n",
    "                print(x)\n",
    "                count += 1\n",
    "    return count\n",
    "\n",
    "print(possible_ages())"
   ]
  }
 ],
 "metadata": {
  "kernelspec": {
   "display_name": "Python 3 (ipykernel)",
   "language": "python",
   "name": "python3"
  },
  "language_info": {
   "codemirror_mode": {
    "name": "ipython",
    "version": 3
   },
   "file_extension": ".py",
   "mimetype": "text/x-python",
   "name": "python",
   "nbconvert_exporter": "python",
   "pygments_lexer": "ipython3",
   "version": "3.9.13"
  }
 },
 "nbformat": 4,
 "nbformat_minor": 5
}

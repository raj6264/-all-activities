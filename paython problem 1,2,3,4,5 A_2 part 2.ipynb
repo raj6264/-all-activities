{
 "cells": [
  {
   "cell_type": "markdown",
   "id": "15532c48",
   "metadata": {},
   "source": [
    "# problem no.1"
   ]
  },
  {
   "cell_type": "code",
   "execution_count": 5,
   "id": "d0316a1d",
   "metadata": {},
   "outputs": [
    {
     "name": "stdout",
     "output_type": "stream",
     "text": [
      "45\n",
      "34\n"
     ]
    }
   ],
   "source": [
    "\n",
    "M = int(input())\n",
    "# Stinput_str = input()\n",
    "input_list = [int(x) for x in input_str.split(';')]\n",
    "sum_of_elements = sum(input_list)\n",
    "print(sum_of_elements)\n"
   ]
  },
  {
   "cell_type": "code",
   "execution_count": null,
   "id": "a7833353",
   "metadata": {},
   "outputs": [],
   "source": [
    "# Read the input values\n",
    "M = int(input())\n",
    "elements = input().split(';')\n",
    "\n",
    "# Convert the elements to integers\n",
    "elements = [int(e) for e in elements]\n",
    "\n",
    "# Calculate the sum of elements\n",
    "total = sum(elements)\n",
    "\n",
    "# Print the sum\n",
    "print(total)\n"
   ]
  },
  {
   "cell_type": "code",
   "execution_count": 6,
   "id": "368bc1ab",
   "metadata": {},
   "outputs": [
    {
     "name": "stdout",
     "output_type": "stream",
     "text": [
      "45\n",
      "45\n",
      "45\n"
     ]
    }
   ],
   "source": [
    "\n",
    "M = int(input())\n",
    "\n",
    "input_str = input()\n",
    "input_list = [int(x) for x in input_str.split(';')]\n",
    "\n",
    "sum_of_elements = sum(input_list)\n",
    "\n",
    "print(sum_of_elements)\n"
   ]
  },
  {
   "cell_type": "markdown",
   "id": "470ed72d",
   "metadata": {},
   "source": [
    "# correct code"
   ]
  },
  {
   "cell_type": "code",
   "execution_count": 7,
   "id": "0bce64b9",
   "metadata": {
    "scrolled": true
   },
   "outputs": [
    {
     "name": "stdout",
     "output_type": "stream",
     "text": [
      "Enter the size of the list:2\n",
      "Enter the integer/ elements:3\n",
      "The list is: [3]\n"
     ]
    }
   ],
   "source": [
    "M = int(input(\"Enter the size of the list:\"))\n",
    "lst = list (map(int, input(\"Enter the integer/ elements:\").strip().split(\";\")))[:n]\n",
    "print ('The list is:', lst)"
   ]
  },
  {
   "cell_type": "markdown",
   "id": "01b733f5",
   "metadata": {},
   "source": [
    "# problem no.2\n"
   ]
  },
  {
   "cell_type": "code",
   "execution_count": 2,
   "id": "82a097c3",
   "metadata": {},
   "outputs": [
    {
     "name": "stdout",
     "output_type": "stream",
     "text": [
      "34\n",
      "45\n",
      "67\n",
      "Better Luck Next Time\n"
     ]
    }
   ],
   "source": [
    " M = int(input())\n",
    "input_str = input()\n",
    "input_list = [int(x) for x in input_str.split()]\n",
    "\n",
    "N = int(input())\n",
    "try:\n",
    "    index_of_N = input_list.index(N)\n",
    "    \n",
    "    print(index_of_N)\n",
    "except ValueError:\n",
    "    print(\"Better Luck Next Time\")\n"
   ]
  },
  {
   "cell_type": "code",
   "execution_count": 3,
   "id": "39f55f64",
   "metadata": {},
   "outputs": [
    {
     "ename": "IndentationError",
     "evalue": "unexpected indent (922180204.py, line 6)",
     "output_type": "error",
     "traceback": [
      "\u001b[1;36m  File \u001b[1;32m\"C:\\Users\\amans\\AppData\\Local\\Temp\\ipykernel_19700\\922180204.py\"\u001b[1;36m, line \u001b[1;32m6\u001b[0m\n\u001b[1;33m    index\u001b[0m\n\u001b[1;37m    ^\u001b[0m\n\u001b[1;31mIndentationError\u001b[0m\u001b[1;31m:\u001b[0m unexpected indent\n"
     ]
    }
   ],
   "source": [
    " M = int(input())\n",
    "input_str = input()\n",
    "input_list = [int(x) for x in input_str.split()]\n",
    "\n",
    "N = int(input())\n",
    "    index\n",
    "    of_N = input_list.index(N)\n",
    "    \n",
    "    print(index_of_N)\n",
    "    ValueError:\n",
    "    print(\"Better Luck Next Time\")"
   ]
  },
  {
   "cell_type": "code",
   "execution_count": 5,
   "id": "dbcb4720",
   "metadata": {},
   "outputs": [
    {
     "name": "stdout",
     "output_type": "stream",
     "text": [
      "Enter the number of elements in the list: 1\n",
      "Enter the elements separated by space: 3\n",
      "Enter the number you are looking for: 4\n",
      "Better Luck Next Time\n"
     ]
    }
   ],
   "source": [
    "\n",
    "m = int(input(\"Enter the number of elements in the list: \"))\n",
    "lst = list(map(int, input(\"Enter the elements separated by space: \").split()))\n",
    "n = int(input(\"Enter the number you are looking for: \"))\n",
    "\n",
    "# \n",
    "index = -1\n",
    "for i in range(m):\n",
    "    if lst[i] == n:\n",
    "        index = i\n",
    "        break\n",
    "if index == -1:\n",
    "    print(\"Better Luck Next Time\")\n",
    "else:\n",
    "    print(\"Number found at index:\", index)\n"
   ]
  },
  {
   "cell_type": "code",
   "execution_count": 16,
   "id": "54009d55",
   "metadata": {},
   "outputs": [
    {
     "ename": "IndentationError",
     "evalue": "unexpected indent (3688363235.py, line 5)",
     "output_type": "error",
     "traceback": [
      "\u001b[1;36m  File \u001b[1;32m\"C:\\Users\\amans\\AppData\\Local\\Temp\\ipykernel_19700\\3688363235.py\"\u001b[1;36m, line \u001b[1;32m5\u001b[0m\n\u001b[1;33m    index in range (n):\u001b[0m\n\u001b[1;37m    ^\u001b[0m\n\u001b[1;31mIndentationError\u001b[0m\u001b[1;31m:\u001b[0m unexpected indent\n"
     ]
    }
   ],
   "source": [
    "M = int (input(\"Enter the size of list:\"))\n",
    "lst = list(map(int, input(\"Enter the integer/elements:\").strip().split(\";\")))[:n]\n",
    "flag=1\n",
    " \n",
    "    indexin range (n):\n",
    "\n",
    "if m==lst[index]:\n",
    "print(index):\n",
    "flag=0:\n",
    "break:\n",
    "if flag=1\n",
    "print(\"Better Luck next time\")"
   ]
  },
  {
   "cell_type": "markdown",
   "id": "2f6bc3c1",
   "metadata": {},
   "source": [
    "# problem no.3"
   ]
  },
  {
   "cell_type": "code",
   "execution_count": 18,
   "id": "d96f2f2d",
   "metadata": {},
   "outputs": [
    {
     "ename": "NameError",
     "evalue": "name 'stack' is not defined",
     "output_type": "error",
     "traceback": [
      "\u001b[1;31m---------------------------------------------------------------------------\u001b[0m",
      "\u001b[1;31mNameError\u001b[0m                                 Traceback (most recent call last)",
      "\u001b[1;32m~\\AppData\\Local\\Temp\\ipykernel_19700\\4058525041.py\u001b[0m in \u001b[0;36m<module>\u001b[1;34m\u001b[0m\n\u001b[0;32m     11\u001b[0m \u001b[1;31m# Test the function with the given input string\u001b[0m\u001b[1;33m\u001b[0m\u001b[1;33m\u001b[0m\u001b[0m\n\u001b[0;32m     12\u001b[0m \u001b[0minput_str\u001b[0m \u001b[1;33m=\u001b[0m \u001b[1;34m'Welcome to EN2004'\u001b[0m\u001b[1;33m\u001b[0m\u001b[1;33m\u001b[0m\u001b[0m\n\u001b[1;32m---> 13\u001b[1;33m \u001b[0moutput_list\u001b[0m \u001b[1;33m=\u001b[0m \u001b[0mstack\u001b[0m\u001b[1;33m(\u001b[0m\u001b[0minput_str\u001b[0m\u001b[1;33m)\u001b[0m\u001b[1;33m\u001b[0m\u001b[1;33m\u001b[0m\u001b[0m\n\u001b[0m\u001b[0;32m     14\u001b[0m \u001b[1;33m\u001b[0m\u001b[0m\n\u001b[0;32m     15\u001b[0m \u001b[1;31m# Print the output in the specified format\u001b[0m\u001b[1;33m\u001b[0m\u001b[1;33m\u001b[0m\u001b[0m\n",
      "\u001b[1;31mNameError\u001b[0m: name 'stack' is not defined"
     ]
    }
   ],
   "source": [
    "def reflection(input_str):\n",
    "    # Split the input string into a list of words\n",
    "    words = input_str.split()\n",
    "\n",
    "    # Reverse the order of the words and join them into a single string\n",
    "    reversed_str = ' '.join(words[::-1])\n",
    "\n",
    "    # Return a list of strings containing the words in reverse order\n",
    "    return reversed_str\n",
    "\n",
    "# Test the function with the given input string\n",
    "input_str = 'Welcome to EN2004'\n",
    "output_list = reflection(input_str)\n",
    "\n",
    "# Print the output in the specified format\n",
    "for word in output_list.split():\n",
    "    print(word)\n"
   ]
  },
  {
   "cell_type": "code",
   "execution_count": 22,
   "id": "6d4045d5",
   "metadata": {},
   "outputs": [
    {
     "name": "stdout",
     "output_type": "stream",
     "text": [
      "Welcome\n",
      "to\n",
      "EN2004\n"
     ]
    }
   ],
   "source": [
    "def reflection(input_str):\n",
    "    # Split the input string into a list of words\n",
    "    words = input_str.split()\n",
    "\n",
    "    # Reverse the order of the words and join them into a single string\n",
    "    stack_str = ' '.join(words[::-1])\n",
    "\n",
    "    # Return a list of strings containing the words in reverse order\n",
    "    return stack_str\n",
    "\n",
    "# Test the function with the given input string\n",
    "input_str = 'Welcome to EN2004'\n",
    "output_list = ('Welcome to EN2004')\n",
    "\n",
    "# Print the output in the specified format\n",
    "for word in output_list.split():\n",
    "    print(word)"
   ]
  },
  {
   "cell_type": "code",
   "execution_count": 48,
   "id": "ffb62a5a",
   "metadata": {},
   "outputs": [
    {
     "ename": "IndentationError",
     "evalue": "unexpected indent (1709548786.py, line 2)",
     "output_type": "error",
     "traceback": [
      "\u001b[1;36m  File \u001b[1;32m\"C:\\Users\\amans\\AppData\\Local\\Temp\\ipykernel_19700\\1709548786.py\"\u001b[1;36m, line \u001b[1;32m2\u001b[0m\n\u001b[1;33m    input_string = input_string.split(' ')[::-1]\u001b[0m\n\u001b[1;37m    ^\u001b[0m\n\u001b[1;31mIndentationError\u001b[0m\u001b[1;31m:\u001b[0m unexpected indent\n"
     ]
    }
   ],
   "source": [
    "  input_string = input('Enter the input string:')\n",
    "    input_string = input_string.split(' ')[::-1]\n",
    "    print(' '.join(input_string))\n",
    "\n",
    "        \n"
   ]
  },
  {
   "cell_type": "code",
   "execution_count": null,
   "id": "c4aa9dc7",
   "metadata": {},
   "outputs": [],
   "source": []
  },
  {
   "cell_type": "markdown",
   "id": "e28d066a",
   "metadata": {},
   "source": [
    "# problem no.4"
   ]
  },
  {
   "cell_type": "code",
   "execution_count": 6,
   "id": "e6ee526c",
   "metadata": {},
   "outputs": [
    {
     "name": "stdout",
     "output_type": "stream",
     "text": [
      "1\n",
      "2\n",
      "2\n"
     ]
    }
   ],
   "source": [
    "def turnaround(input_list):\n",
    "    mid_index = len(input_list) // 2\n",
    "\n",
    "    \n",
    "    reversed_list = input_list[::-1]\n",
    "\n",
    "    output_list = [reversed_list[mid_index]] + reversed_list[:mid_index] + reversed_list[mid_index+1:]\n",
    "\n",
    "    \n",
    "    return output_list\n",
    "\n",
    "M = int(input())\n",
    "input_list = []\n",
    "for i in range(M):\n",
    "    input_list.append(int(input()))\n",
    "    \n",
    "output_list = turnaround(input_list)\n",
    "for num in output_list:\n",
    "    print(num)\n"
   ]
  },
  {
   "cell_type": "code",
   "execution_count": 43,
   "id": "a204199e",
   "metadata": {},
   "outputs": [
    {
     "name": "stdout",
     "output_type": "stream",
     "text": [
      "Enter the length of input:10\n",
      "Write each input in a new line.\n",
      "10 \n",
      "20\n",
      "30\n",
      "40\n",
      "50\n",
      "60\n",
      "70\n",
      "80\n",
      "90\n",
      "100\n",
      "Output is as follow:\n",
      "10\n",
      "20\n",
      "30\n",
      "40\n",
      "50\n",
      "60\n",
      "70\n",
      "80\n",
      "90\n",
      "100\n"
     ]
    }
   ],
   "source": [
    "    input_length = int(input('Enter the length of input:'))\n",
    "    temp_list = []\n",
    "    print('Write each input in a new line.')\n",
    "    for i in range(input_length):\n",
    "        a = int(input())\n",
    "        temp_list.append(a)\n",
    "    print('Output is as follow:')\n",
    "    for i in temp_list:\n",
    "        print(i)"
   ]
  },
  {
   "cell_type": "code",
   "execution_count": null,
   "id": "53ac4a4a",
   "metadata": {},
   "outputs": [],
   "source": [
    "m = int(input())\n",
    "lst = []\n",
    "for i in range(m):\n",
    "    lst.append(int(input()))\n",
    "\n",
    "result = turnaround(lst)\n",
    "for i in result:\n",
    "    print(i)\n"
   ]
  },
  {
   "cell_type": "code",
   "execution_count": null,
   "id": "1399aa29",
   "metadata": {},
   "outputs": [],
   "source": [
    "def turnaround(lst):\n",
    "    # Reverse the list\n",
    "    lst.reverse()\n",
    "    \n",
    "    # Split the list into two halves\n",
    "    mid = len(lst) // 2\n",
    "    lst1 = lst[:mid]\n",
    "    lst2 = lst[mid:]\n",
    "    \n",
    "    # Interleave the two halves into a new list\n",
    "    result = []\n",
    "    for i in range(max(len(lst1), len(lst2))):\n",
    "        if i < len(lst1):\n",
    "            result.append(lst1[i])\n",
    "        if i < len(lst2):\n",
    "            result.append(lst2[i])\n",
    "    \n",
    "    return result\n"
   ]
  },
  {
   "cell_type": "markdown",
   "id": "63d993d6",
   "metadata": {},
   "source": [
    "# problem 5"
   ]
  },
  {
   "cell_type": "code",
   "execution_count": 56,
   "id": "751f146d",
   "metadata": {},
   "outputs": [
    {
     "ename": "IndentationError",
     "evalue": "unindent does not match any outer indentation level (<tokenize>, line 3)",
     "output_type": "error",
     "traceback": [
      "\u001b[1;36m  File \u001b[1;32m\"<tokenize>\"\u001b[1;36m, line \u001b[1;32m3\u001b[0m\n\u001b[1;33m    count_1 = input_list.count(1)\u001b[0m\n\u001b[1;37m    ^\u001b[0m\n\u001b[1;31mIndentationError\u001b[0m\u001b[1;31m:\u001b[0m unindent does not match any outer indentation level\n"
     ]
    }
   ],
   "source": [
    "def arrange(input_list):\n",
    "     Count the number of 1s and 2s in the input list\n",
    "    count_1 = input_list.count(1)\n",
    "    count_2 = input_list.count(2)\n",
    "\n",
    "    Create a new list with the correct number of 1s and 2s in the right order\n",
    "    output_list = [1] * count_1 + [2] * count_2\n",
    "\n",
    "     Return the output list\n",
    "    return output_list\n",
    "\n",
    " Read the input list from the user\n",
    "T = int(input())\n",
    "for i in range(T):\n",
    "    M = int(input())\n",
    "    input_list = list(map(int, input().split()))\n",
    "\n",
    "     Call the arrange function with the input list\n",
    "    output_list = arrange(input_list)\n",
    "\n",
    "    Print the output list in the specified format\n",
    "    for num in output_list:\n",
    "        print(num, end=' ')\n",
    "    print()\n"
   ]
  },
  {
   "cell_type": "code",
   "execution_count": 1,
   "id": "7f324b3b",
   "metadata": {},
   "outputs": [
    {
     "ename": "IndentationError",
     "evalue": "unexpected indent (1565582388.py, line 2)",
     "output_type": "error",
     "traceback": [
      "\u001b[1;36m  File \u001b[1;32m\"C:\\Users\\amans\\AppData\\Local\\Temp\\ipykernel_24340\\1565582388.py\"\u001b[1;36m, line \u001b[1;32m2\u001b[0m\n\u001b[1;33m    temp_list = []\u001b[0m\n\u001b[1;37m    ^\u001b[0m\n\u001b[1;31mIndentationError\u001b[0m\u001b[1;31m:\u001b[0m unexpected indent\n"
     ]
    }
   ],
   "source": [
    "input_length = int(input('Enter the length of input:'))\n",
    "    temp_list = []\n",
    "    print('Write each input in a new line.')\n",
    "    for i in range(input_length):\n",
    "        a = int(input())\n",
    "        temp_list.append(a)\n",
    "    print('Output is as follow:')\n",
    "    for i in temp_list:\n",
    "        print(i)\n"
   ]
  },
  {
   "cell_type": "code",
   "execution_count": 49,
   "id": "b56aa069",
   "metadata": {},
   "outputs": [
    {
     "ename": "IndentationError",
     "evalue": "unexpected indent (1241882802.py, line 2)",
     "output_type": "error",
     "traceback": [
      "\u001b[1;36m  File \u001b[1;32m\"C:\\Users\\amans\\AppData\\Local\\Temp\\ipykernel_19700\\1241882802.py\"\u001b[1;36m, line \u001b[1;32m2\u001b[0m\n\u001b[1;33m    input_list = list(map(int, input(\"Enter all {} variables: \".format(input_length)).split(' ')))\u001b[0m\n\u001b[1;37m    ^\u001b[0m\n\u001b[1;31mIndentationError\u001b[0m\u001b[1;31m:\u001b[0m unexpected indent\n"
     ]
    }
   ],
   "source": [
    " input_length = int(input('Enter the length of input:'))\n",
    "    input_list = list(map(int, input(\"Enter all {} variables: \".format(input_length)).split(' ')))\n",
    "    input_list = input_list[:input_length]\n",
    "    one_count = input_list.count(1)\n",
    "    two_count = input_list.count(2)\n",
    "    out_list = []\n",
    "    for i in range(one_count):\n",
    "        out_list.append('1')\n",
    "    for i in range(two_count):\n",
    "        out_list.append('2')\n",
    "    print(' '.join(out_list))"
   ]
  },
  {
   "cell_type": "code",
   "execution_count": null,
   "id": "45cf426a",
   "metadata": {},
   "outputs": [],
   "source": [
    "M = int(input(\"Enter the size of the list:\"))\n",
    "lst = list (map(int, input(\"Enter the integer/ elements:\").strip().split(\";\")))[:n]\n",
    "print ('The list is:', lst)\n"
   ]
  },
  {
   "cell_type": "code",
   "execution_count": null,
   "id": "ba0c0011",
   "metadata": {},
   "outputs": [],
   "source": [
    "t = int(input())\n",
    "for i in range(t):\n",
    "    m = int(input())\n",
    "    lst = list(map(int, input().split()))\n",
    "    \n",
    "    result = arrange(lst)\n",
    "    for i in result:\n",
    "        print(i, end=\" \")\n",
    "    print()\n"
   ]
  },
  {
   "cell_type": "code",
   "execution_count": 3,
   "id": "1720d90d",
   "metadata": {},
   "outputs": [],
   "source": [
    "def arrange(lst):\n",
    "    \n",
    "    count1 = 0\n",
    "    count2 = 0\n",
    "    for i in lst:\n",
    "        if i == 1:\n",
    "            count1 += 1\n",
    "        elif i == 2:\n",
    "            count2 += 1\n",
    "    \n",
    "    \n",
    "    result = []\n",
    "    for i in range(count1):\n",
    "        result.append(1)\n",
    "    for i in range(count2):\n",
    "        result.append(2)\n",
    "    \n",
    "    return result\n"
   ]
  }
 ],
 "metadata": {
  "kernelspec": {
   "display_name": "Python 3 (ipykernel)",
   "language": "python",
   "name": "python3"
  },
  "language_info": {
   "codemirror_mode": {
    "name": "ipython",
    "version": 3
   },
   "file_extension": ".py",
   "mimetype": "text/x-python",
   "name": "python",
   "nbconvert_exporter": "python",
   "pygments_lexer": "ipython3",
   "version": "3.9.13"
  }
 },
 "nbformat": 4,
 "nbformat_minor": 5
}
